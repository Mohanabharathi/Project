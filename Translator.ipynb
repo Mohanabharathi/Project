{
 "cells": [
  {
   "cell_type": "code",
   "execution_count": 2,
   "id": "a3cc7bfd",
   "metadata": {},
   "outputs": [
    {
     "name": "stdout",
     "output_type": "stream",
     "text": [
      "Collecting translate\n",
      "  Downloading translate-3.6.1-py2.py3-none-any.whl (12 kB)\n",
      "Requirement already satisfied: click in c:\\users\\snekalatha\\anaconda3\\lib\\site-packages (from translate) (8.0.4)\n",
      "Requirement already satisfied: lxml in c:\\users\\snekalatha\\anaconda3\\lib\\site-packages (from translate) (4.9.2)\n",
      "Requirement already satisfied: requests in c:\\users\\snekalatha\\anaconda3\\lib\\site-packages (from translate) (2.31.0)\n",
      "Collecting libretranslatepy==2.1.1 (from translate)\n",
      "  Downloading libretranslatepy-2.1.1-py3-none-any.whl (3.2 kB)\n",
      "Requirement already satisfied: colorama in c:\\users\\snekalatha\\anaconda3\\lib\\site-packages (from click->translate) (0.4.6)\n",
      "Requirement already satisfied: charset-normalizer<4,>=2 in c:\\users\\snekalatha\\anaconda3\\lib\\site-packages (from requests->translate) (2.0.4)\n",
      "Requirement already satisfied: idna<4,>=2.5 in c:\\users\\snekalatha\\anaconda3\\lib\\site-packages (from requests->translate) (3.4)\n",
      "Requirement already satisfied: urllib3<3,>=1.21.1 in c:\\users\\snekalatha\\anaconda3\\lib\\site-packages (from requests->translate) (1.26.16)\n",
      "Requirement already satisfied: certifi>=2017.4.17 in c:\\users\\snekalatha\\anaconda3\\lib\\site-packages (from requests->translate) (2023.7.22)\n",
      "Installing collected packages: libretranslatepy, translate\n",
      "Successfully installed libretranslatepy-2.1.1 translate-3.6.1\n",
      "Note: you may need to restart the kernel to use updated packages.\n"
     ]
    }
   ],
   "source": [
    "pip install translate"
   ]
  },
  {
   "cell_type": "code",
   "execution_count": 4,
   "id": "d6de4f13",
   "metadata": {},
   "outputs": [
    {
     "name": "stdout",
     "output_type": "stream",
     "text": [
      "Enter the sentence:how are you\n",
      "Available languages:\n",
      " 1.Tamil\n",
      " 2.Hindi\n",
      " 3.French\n",
      " 4.Japanese\n",
      " 5.Spanish\n",
      " 6.Chinese\n",
      " 7.Sanskrit\n",
      " 8.Burmese\n",
      " 9.Turkish\n",
      " 10.Arabic\n",
      "\n",
      "Choose language1\n",
      "நீங்கள் எப்படி இருக்கிறீர்கள்\n"
     ]
    }
   ],
   "source": [
    "from translate import Translator\n",
    "s=input(\"Enter the sentence:\")\n",
    "print(\"Available languages:\\n 1.Tamil\\n 2.Hindi\\n 3.French\\n 4.Japanese\\n 5.Spanish\\n\"\n",
    "      \" 6.Chinese\\n 7.Sanskrit\\n 8.Burmese\\n 9.Turkish\\n 10.Arabic\\n\")\n",
    "l=int(input(\"Choose language\"))\n",
    "if (l==1):\n",
    "    translator = Translator(to_lang=\"Tamil\")\n",
    "    translation = translator.translate(s)\n",
    "    print(translation)\n",
    "elif (l==2):\n",
    "    translator = Translator(to_lang=\"Hindi\")\n",
    "    translation = translator.translate(s)\n",
    "    print(translation)\n",
    "elif (l==3):\n",
    "    translator = Translator(to_lang=\"French\")\n",
    "    translation = translator.translate(s)\n",
    "    print(translation)\n",
    "elif (l==4):\n",
    "    translator = Translator(to_lang=\"Japanese\")\n",
    "    translation = translator.translate(s)\n",
    "    print(translation)\n",
    "elif (l==5):\n",
    "    translator = Translator(to_lang=\"Spanish\")\n",
    "    translation = translator.translate(s)\n",
    "    print(translation)\n",
    "elif (l==6):\n",
    "    translator = Translator(to_lang=\"Chinese\")\n",
    "    translation = translator.translate(s)\n",
    "    print(translation)\n",
    "elif (l==7):\n",
    "    translator = Translator(to_lang=\"Sanskrit\")\n",
    "    translation = translator.translate(s)\n",
    "    print(translation)\n",
    "elif (l==8):\n",
    "    translator = Translator(to_lang=\"Burmese\")\n",
    "    translation = translator.translate(s)\n",
    "    print(translation)\n",
    "elif (l==9):\n",
    "    translator = Translator(to_lang=\"Turkish\")\n",
    "    translation = translator.translate(s)\n",
    "    print(translation)\n",
    "elif (l==10):\n",
    "    translator = Translator(to_lang=\"Arabic\")\n",
    "    translation = translator.translate(s)\n",
    "    print(translation)\n",
    "else:\n",
    "    print(\"INVALID CHOOSING\")\n"
   ]
  },
  {
   "cell_type": "code",
   "execution_count": null,
   "id": "eae940b0",
   "metadata": {},
   "outputs": [],
   "source": []
  }
 ],
 "metadata": {
  "kernelspec": {
   "display_name": "Python 3 (ipykernel)",
   "language": "python",
   "name": "python3"
  },
  "language_info": {
   "codemirror_mode": {
    "name": "ipython",
    "version": 3
   },
   "file_extension": ".py",
   "mimetype": "text/x-python",
   "name": "python",
   "nbconvert_exporter": "python",
   "pygments_lexer": "ipython3",
   "version": "3.11.3"
  }
 },
 "nbformat": 4,
 "nbformat_minor": 5
}
